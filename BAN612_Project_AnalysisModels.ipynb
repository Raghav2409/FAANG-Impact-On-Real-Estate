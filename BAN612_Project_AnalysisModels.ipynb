{
 "cells": [
  {
   "cell_type": "markdown",
   "id": "3be7ba0d-9f61-4876-9f0e-643bfa5585c0",
   "metadata": {},
   "source": [
    "## OLS Regression"
   ]
  },
  {
   "cell_type": "code",
   "execution_count": 12,
   "id": "f990efbd-df88-4626-b4d2-055efb851493",
   "metadata": {},
   "outputs": [],
   "source": [
    "from pathlib import Path # to interact with file system.\n",
    "\n",
    "import numpy as np # for working with arrays.\n",
    "import pandas as pd # for working with data frames (tables).\n",
    "\n",
    "from sklearn.model_selection import train_test_split\n",
    "from sklearn.linear_model import LinearRegression\n",
    "import statsmodels.formula.api as sm\n",
    "import matplotlib.pylab as plt\n",
    "\n",
    "import dmba\n",
    "from dmba import regressionSummary, exhaustive_search\n",
    "from dmba import backward_elimination, forward_selection, stepwise_selection\n",
    "from dmba import adjusted_r2_score, AIC_score, BIC_score\n",
    "\n",
    "%matplotlib inline"
   ]
  },
  {
   "cell_type": "code",
   "execution_count": 3,
   "id": "a48bf6d9-7c57-474f-ac8c-b3737366b6c2",
   "metadata": {},
   "outputs": [
    {
     "data": {
      "text/plain": [
       "(788, 20)"
      ]
     },
     "execution_count": 3,
     "metadata": {},
     "output_type": "execute_result"
    }
   ],
   "source": [
    "redfin_df = pd.read_csv('cleaned_data3.csv')\n",
    "redfin_df.shape"
   ]
  },
  {
   "cell_type": "code",
   "execution_count": 4,
   "id": "a3422684-2d81-4b52-8acc-de3bf6eec950",
   "metadata": {},
   "outputs": [
    {
     "name": "stdout",
     "output_type": "stream",
     "text": [
      "Unnamed: 0                   0\n",
      "Estimated_market_value       0\n",
      "Selling_Price                0\n",
      "Date_Sold                   74\n",
      "Estimated_Monthly_Cost       2\n",
      "Estimated_Rental_Value       0\n",
      "Zipcode                      0\n",
      "Beds                         0\n",
      "Bathrooms                    0\n",
      "Square_Feet                  0\n",
      "Address                      0\n",
      "Year_Built                   0\n",
      "Price_Per_Sqft               1\n",
      "Lot_Size                     0\n",
      "Parking_Spaces               0\n",
      "Monthly_Mortgage_Payment     2\n",
      "Walk_Score                   0\n",
      "Estimated_Salesrange_min     0\n",
      "Estimated_Salesrange_max     0\n",
      "Company_Adj                  1\n",
      "dtype: int64\n"
     ]
    }
   ],
   "source": [
    "print(redfin_df.isnull().sum())"
   ]
  },
  {
   "cell_type": "code",
   "execution_count": 5,
   "id": "3a4b9145-8812-478b-8bb6-2bcb423f54fd",
   "metadata": {},
   "outputs": [
    {
     "data": {
      "text/plain": [
       "787"
      ]
     },
     "execution_count": 5,
     "metadata": {},
     "output_type": "execute_result"
    }
   ],
   "source": [
    "redfin_df = redfin_df.dropna(subset=['Company_Adj'])\n",
    "redfin_df = redfin_df.reset_index(drop=True)\n",
    "redfin_df\n",
    "redfin_df.shape[0]"
   ]
  },
  {
   "cell_type": "code",
   "execution_count": 6,
   "id": "fbd21dfb-1f61-4c72-91d9-0d4f8f9715e1",
   "metadata": {},
   "outputs": [
    {
     "data": {
      "text/html": [
       "<div>\n",
       "<style scoped>\n",
       "    .dataframe tbody tr th:only-of-type {\n",
       "        vertical-align: middle;\n",
       "    }\n",
       "\n",
       "    .dataframe tbody tr th {\n",
       "        vertical-align: top;\n",
       "    }\n",
       "\n",
       "    .dataframe thead th {\n",
       "        text-align: right;\n",
       "    }\n",
       "</style>\n",
       "<table border=\"1\" class=\"dataframe\">\n",
       "  <thead>\n",
       "    <tr style=\"text-align: right;\">\n",
       "      <th></th>\n",
       "      <th>Unnamed: 0</th>\n",
       "      <th>Estimated_market_value</th>\n",
       "      <th>Selling_Price</th>\n",
       "      <th>Estimated_Rental_Value</th>\n",
       "      <th>Zipcode</th>\n",
       "      <th>Beds</th>\n",
       "      <th>Bathrooms</th>\n",
       "      <th>Square_Feet</th>\n",
       "      <th>Address</th>\n",
       "      <th>Year_Built</th>\n",
       "      <th>Lot_Size</th>\n",
       "      <th>Parking_Spaces</th>\n",
       "      <th>Walk_Score</th>\n",
       "      <th>Estimated_Salesrange_min</th>\n",
       "      <th>Estimated_Salesrange_max</th>\n",
       "      <th>Company_Adj</th>\n",
       "    </tr>\n",
       "  </thead>\n",
       "  <tbody>\n",
       "    <tr>\n",
       "      <th>0</th>\n",
       "      <td>0</td>\n",
       "      <td>2260062</td>\n",
       "      <td>1950000</td>\n",
       "      <td>5263.43</td>\n",
       "      <td>95070</td>\n",
       "      <td>3</td>\n",
       "      <td>2.0</td>\n",
       "      <td>1249</td>\n",
       "      <td>10612 Gascoigne Dr</td>\n",
       "      <td>1955</td>\n",
       "      <td>5073.00</td>\n",
       "      <td>1</td>\n",
       "      <td>22</td>\n",
       "      <td>2150000.0</td>\n",
       "      <td>2550000.0</td>\n",
       "      <td>Apple_Adj</td>\n",
       "    </tr>\n",
       "    <tr>\n",
       "      <th>1</th>\n",
       "      <td>1</td>\n",
       "      <td>1723047</td>\n",
       "      <td>1850000</td>\n",
       "      <td>4115.00</td>\n",
       "      <td>95070</td>\n",
       "      <td>3</td>\n",
       "      <td>2.5</td>\n",
       "      <td>1598</td>\n",
       "      <td>20579 Cedarbrook Ter</td>\n",
       "      <td>1977</td>\n",
       "      <td>2133.00</td>\n",
       "      <td>2</td>\n",
       "      <td>57</td>\n",
       "      <td>1640000.0</td>\n",
       "      <td>1950000.0</td>\n",
       "      <td>Apple_Adj</td>\n",
       "    </tr>\n",
       "    <tr>\n",
       "      <th>2</th>\n",
       "      <td>2</td>\n",
       "      <td>1629260</td>\n",
       "      <td>1685000</td>\n",
       "      <td>5374.13</td>\n",
       "      <td>95014</td>\n",
       "      <td>3</td>\n",
       "      <td>2.0</td>\n",
       "      <td>1487</td>\n",
       "      <td>20239 Northwest Sq</td>\n",
       "      <td>1973</td>\n",
       "      <td>1344.00</td>\n",
       "      <td>2</td>\n",
       "      <td>64</td>\n",
       "      <td>1550000.0</td>\n",
       "      <td>1840000.0</td>\n",
       "      <td>Apple</td>\n",
       "    </tr>\n",
       "    <tr>\n",
       "      <th>3</th>\n",
       "      <td>3</td>\n",
       "      <td>1813091</td>\n",
       "      <td>1830000</td>\n",
       "      <td>4848.10</td>\n",
       "      <td>94024</td>\n",
       "      <td>3</td>\n",
       "      <td>2.5</td>\n",
       "      <td>1670</td>\n",
       "      <td>10280 Park Green Ln #850</td>\n",
       "      <td>2006</td>\n",
       "      <td>984.00</td>\n",
       "      <td>2</td>\n",
       "      <td>84</td>\n",
       "      <td>1720000.0</td>\n",
       "      <td>2050000.0</td>\n",
       "      <td>Alphabet_Adj</td>\n",
       "    </tr>\n",
       "    <tr>\n",
       "      <th>4</th>\n",
       "      <td>4</td>\n",
       "      <td>1163353</td>\n",
       "      <td>1090000</td>\n",
       "      <td>3407.00</td>\n",
       "      <td>95015</td>\n",
       "      <td>3</td>\n",
       "      <td>2.0</td>\n",
       "      <td>1491</td>\n",
       "      <td>10090 Pasadena Ave Unit A4</td>\n",
       "      <td>1985</td>\n",
       "      <td>38577.88</td>\n",
       "      <td>1</td>\n",
       "      <td>73</td>\n",
       "      <td>1110000.0</td>\n",
       "      <td>1320000.0</td>\n",
       "      <td>Apple_Adj</td>\n",
       "    </tr>\n",
       "    <tr>\n",
       "      <th>...</th>\n",
       "      <td>...</td>\n",
       "      <td>...</td>\n",
       "      <td>...</td>\n",
       "      <td>...</td>\n",
       "      <td>...</td>\n",
       "      <td>...</td>\n",
       "      <td>...</td>\n",
       "      <td>...</td>\n",
       "      <td>...</td>\n",
       "      <td>...</td>\n",
       "      <td>...</td>\n",
       "      <td>...</td>\n",
       "      <td>...</td>\n",
       "      <td>...</td>\n",
       "      <td>...</td>\n",
       "      <td>...</td>\n",
       "    </tr>\n",
       "    <tr>\n",
       "      <th>782</th>\n",
       "      <td>783</td>\n",
       "      <td>1625000</td>\n",
       "      <td>1625000</td>\n",
       "      <td>4096.00</td>\n",
       "      <td>95125</td>\n",
       "      <td>3</td>\n",
       "      <td>2.0</td>\n",
       "      <td>1716</td>\n",
       "      <td>1018 Pine</td>\n",
       "      <td>1953</td>\n",
       "      <td>6440.00</td>\n",
       "      <td>2</td>\n",
       "      <td>53</td>\n",
       "      <td>1720000.0</td>\n",
       "      <td>2050000.0</td>\n",
       "      <td>Netflix_Adj</td>\n",
       "    </tr>\n",
       "    <tr>\n",
       "      <th>783</th>\n",
       "      <td>784</td>\n",
       "      <td>2258708</td>\n",
       "      <td>1765000</td>\n",
       "      <td>4894.00</td>\n",
       "      <td>95125</td>\n",
       "      <td>3</td>\n",
       "      <td>3.0</td>\n",
       "      <td>2231</td>\n",
       "      <td>1466 Gerhardt Ave</td>\n",
       "      <td>1958</td>\n",
       "      <td>8426.00</td>\n",
       "      <td>9999</td>\n",
       "      <td>49</td>\n",
       "      <td>2150000.0</td>\n",
       "      <td>2550000.0</td>\n",
       "      <td>Netflix_Adj</td>\n",
       "    </tr>\n",
       "    <tr>\n",
       "      <th>784</th>\n",
       "      <td>785</td>\n",
       "      <td>1229202</td>\n",
       "      <td>1350000</td>\n",
       "      <td>3711.00</td>\n",
       "      <td>95131</td>\n",
       "      <td>3</td>\n",
       "      <td>2.5</td>\n",
       "      <td>1464</td>\n",
       "      <td>1929 Garden Bing Cir</td>\n",
       "      <td>1984</td>\n",
       "      <td>3150.00</td>\n",
       "      <td>6</td>\n",
       "      <td>67</td>\n",
       "      <td>1170000.0</td>\n",
       "      <td>1390000.0</td>\n",
       "      <td>Netflix_Adj</td>\n",
       "    </tr>\n",
       "    <tr>\n",
       "      <th>785</th>\n",
       "      <td>786</td>\n",
       "      <td>1074256</td>\n",
       "      <td>1000000</td>\n",
       "      <td>2807.00</td>\n",
       "      <td>95111</td>\n",
       "      <td>3</td>\n",
       "      <td>2.0</td>\n",
       "      <td>990</td>\n",
       "      <td>4883 Snow Dr</td>\n",
       "      <td>1962</td>\n",
       "      <td>7337.00</td>\n",
       "      <td>9999</td>\n",
       "      <td>60</td>\n",
       "      <td>1020000.0</td>\n",
       "      <td>1210000.0</td>\n",
       "      <td>Apple_Adj</td>\n",
       "    </tr>\n",
       "    <tr>\n",
       "      <th>786</th>\n",
       "      <td>787</td>\n",
       "      <td>2020876</td>\n",
       "      <td>1860000</td>\n",
       "      <td>4734.00</td>\n",
       "      <td>95120</td>\n",
       "      <td>4</td>\n",
       "      <td>3.0</td>\n",
       "      <td>2167</td>\n",
       "      <td>1069 Timbercrest Dr</td>\n",
       "      <td>1980</td>\n",
       "      <td>5981.00</td>\n",
       "      <td>9999</td>\n",
       "      <td>68</td>\n",
       "      <td>1920000.0</td>\n",
       "      <td>2280000.0</td>\n",
       "      <td>Netflix_Adj</td>\n",
       "    </tr>\n",
       "  </tbody>\n",
       "</table>\n",
       "<p>787 rows × 16 columns</p>\n",
       "</div>"
      ],
      "text/plain": [
       "     Unnamed: 0  Estimated_market_value  Selling_Price  \\\n",
       "0             0                 2260062        1950000   \n",
       "1             1                 1723047        1850000   \n",
       "2             2                 1629260        1685000   \n",
       "3             3                 1813091        1830000   \n",
       "4             4                 1163353        1090000   \n",
       "..          ...                     ...            ...   \n",
       "782         783                 1625000        1625000   \n",
       "783         784                 2258708        1765000   \n",
       "784         785                 1229202        1350000   \n",
       "785         786                 1074256        1000000   \n",
       "786         787                 2020876        1860000   \n",
       "\n",
       "     Estimated_Rental_Value  Zipcode  Beds  Bathrooms  Square_Feet  \\\n",
       "0                   5263.43    95070     3        2.0         1249   \n",
       "1                   4115.00    95070     3        2.5         1598   \n",
       "2                   5374.13    95014     3        2.0         1487   \n",
       "3                   4848.10    94024     3        2.5         1670   \n",
       "4                   3407.00    95015     3        2.0         1491   \n",
       "..                      ...      ...   ...        ...          ...   \n",
       "782                 4096.00    95125     3        2.0         1716   \n",
       "783                 4894.00    95125     3        3.0         2231   \n",
       "784                 3711.00    95131     3        2.5         1464   \n",
       "785                 2807.00    95111     3        2.0          990   \n",
       "786                 4734.00    95120     4        3.0         2167   \n",
       "\n",
       "                        Address  Year_Built  Lot_Size  Parking_Spaces  \\\n",
       "0            10612 Gascoigne Dr        1955   5073.00               1   \n",
       "1          20579 Cedarbrook Ter        1977   2133.00               2   \n",
       "2            20239 Northwest Sq        1973   1344.00               2   \n",
       "3      10280 Park Green Ln #850        2006    984.00               2   \n",
       "4    10090 Pasadena Ave Unit A4        1985  38577.88               1   \n",
       "..                          ...         ...       ...             ...   \n",
       "782                   1018 Pine        1953   6440.00               2   \n",
       "783           1466 Gerhardt Ave        1958   8426.00            9999   \n",
       "784        1929 Garden Bing Cir        1984   3150.00               6   \n",
       "785                4883 Snow Dr        1962   7337.00            9999   \n",
       "786         1069 Timbercrest Dr        1980   5981.00            9999   \n",
       "\n",
       "     Walk_Score  Estimated_Salesrange_min  Estimated_Salesrange_max  \\\n",
       "0            22                 2150000.0                 2550000.0   \n",
       "1            57                 1640000.0                 1950000.0   \n",
       "2            64                 1550000.0                 1840000.0   \n",
       "3            84                 1720000.0                 2050000.0   \n",
       "4            73                 1110000.0                 1320000.0   \n",
       "..          ...                       ...                       ...   \n",
       "782          53                 1720000.0                 2050000.0   \n",
       "783          49                 2150000.0                 2550000.0   \n",
       "784          67                 1170000.0                 1390000.0   \n",
       "785          60                 1020000.0                 1210000.0   \n",
       "786          68                 1920000.0                 2280000.0   \n",
       "\n",
       "      Company_Adj  \n",
       "0       Apple_Adj  \n",
       "1       Apple_Adj  \n",
       "2           Apple  \n",
       "3    Alphabet_Adj  \n",
       "4       Apple_Adj  \n",
       "..            ...  \n",
       "782   Netflix_Adj  \n",
       "783   Netflix_Adj  \n",
       "784   Netflix_Adj  \n",
       "785     Apple_Adj  \n",
       "786   Netflix_Adj  \n",
       "\n",
       "[787 rows x 16 columns]"
      ]
     },
     "execution_count": 6,
     "metadata": {},
     "output_type": "execute_result"
    }
   ],
   "source": [
    "redfin_df = redfin_df.dropna(axis=1) #dropping columns that have NaN\n",
    "redfin_df"
   ]
  },
  {
   "cell_type": "code",
   "execution_count": 7,
   "id": "cd933e9f-ef44-49f7-a213-6798f1eeec98",
   "metadata": {},
   "outputs": [
    {
     "data": {
      "text/plain": [
       "786"
      ]
     },
     "execution_count": 7,
     "metadata": {},
     "output_type": "execute_result"
    }
   ],
   "source": [
    "values = [30]# remove the rows for bedrooms that are not equal to 3\n",
    "redfin_df = redfin_df[redfin_df.Beds.isin(values) == False]\n",
    "redfin_df = redfin_df.reset_index(drop=True)\n",
    "redfin_df\n",
    "redfin_df.shape[0]"
   ]
  },
  {
   "cell_type": "code",
   "execution_count": 8,
   "id": "147f54da-0366-40a7-8f61-292b60b4f43d",
   "metadata": {},
   "outputs": [
    {
     "data": {
      "text/plain": [
       "Index(['Unnamed: 0', 'Estimated_market_value', 'Selling_Price',\n",
       "       'Estimated_Rental_Value', 'Zipcode', 'Beds', 'Bathrooms', 'Square_Feet',\n",
       "       'Address', 'Year_Built', 'Lot_Size', 'Parking_Spaces', 'Walk_Score',\n",
       "       'Estimated_Salesrange_min', 'Estimated_Salesrange_max', 'Company_Adj'],\n",
       "      dtype='object')"
      ]
     },
     "execution_count": 8,
     "metadata": {},
     "output_type": "execute_result"
    }
   ],
   "source": [
    "redfin_df.columns"
   ]
  },
  {
   "cell_type": "code",
   "execution_count": 13,
   "id": "1b1090af-7881-4869-a0b4-d044877965e4",
   "metadata": {},
   "outputs": [
    {
     "name": "stdout",
     "output_type": "stream",
     "text": [
      "                            OLS Regression Results                            \n",
      "==============================================================================\n",
      "Dep. Variable:          Selling_Price   R-squared:                       0.069\n",
      "Model:                            OLS   Adj. R-squared:                  0.063\n",
      "Method:                 Least Squares   F-statistic:                     11.47\n",
      "Date:                Tue, 10 Oct 2023   Prob (F-statistic):           1.05e-10\n",
      "Time:                        19:16:54   Log-Likelihood:                -11780.\n",
      "No. Observations:                 786   AIC:                         2.357e+04\n",
      "Df Residuals:                     780   BIC:                         2.360e+04\n",
      "Df Model:                           5                                         \n",
      "Covariance Type:            nonrobust                                         \n",
      "===============================================================================================\n",
      "                                  coef    std err          t      P>|t|      [0.025      0.975]\n",
      "-----------------------------------------------------------------------------------------------\n",
      "Intercept                    1.448e+06   1.57e+05      9.227      0.000    1.14e+06    1.76e+06\n",
      "Company_Adj[T.Alphabet_Adj]  4.104e+05   1.75e+05      2.349      0.019    6.74e+04    7.53e+05\n",
      "Company_Adj[T.Apple]         9.721e+05   2.12e+05      4.576      0.000    5.55e+05    1.39e+06\n",
      "Company_Adj[T.Apple_Adj]     8.114e+05   1.86e+05      4.366      0.000    4.47e+05    1.18e+06\n",
      "Company_Adj[T.Netflix]       1.393e+06   2.39e+05      5.834      0.000    9.24e+05    1.86e+06\n",
      "Company_Adj[T.Netflix_Adj]   4.684e+05    1.6e+05      2.919      0.004    1.53e+05    7.83e+05\n",
      "==============================================================================\n",
      "Omnibus:                      387.238   Durbin-Watson:                   1.680\n",
      "Prob(Omnibus):                  0.000   Jarque-Bera (JB):             3196.302\n",
      "Skew:                           2.061   Prob(JB):                         0.00\n",
      "Kurtosis:                      11.978   Cond. No.                         17.9\n",
      "==============================================================================\n",
      "\n",
      "Notes:\n",
      "[1] Standard Errors assume that the covariance matrix of the errors is correctly specified.\n"
     ]
    }
   ],
   "source": [
    "formula = 'Selling_Price ~ Company_Adj' # Regression to see the correlation between selling price and Company_Adj\n",
    "redfin_lm = sm.ols(formula=formula, data=redfin_df).fit()\n",
    "summary_table = redfin_lm.summary()\n",
    "print(redfin_lm.summary())"
   ]
  },
  {
   "cell_type": "markdown",
   "id": "86e5abaf-fe35-4d6e-86d0-0393c143349b",
   "metadata": {},
   "source": [
    "From the OLS regression results, the model as a whole is statistically significant. Meaning there's a relationship between\n",
    "the independent variable, 'Company_Adj', and the dependent variable, 'Selling_Price'. OLS was only used to see how the different categories of 'Company_Adj' affects the selling price. "
   ]
  },
  {
   "cell_type": "code",
   "execution_count": 103,
   "id": "24169310-0e3b-4009-aadd-a1b62a370bae",
   "metadata": {},
   "outputs": [
    {
     "data": {
      "image/png": "[encoded data removed]",
      "text/plain": [
       "<Figure size 1400x800 with 2 Axes>"
      ]
     },
     "metadata": {},
     "output_type": "display_data"
    }
   ],
   "source": [
    "corr = redfin_df.corr() # getting the heatmap to check whether other variables may have an effect on selling price\n",
    "fig, ax = plt.subplots()\n",
    "fig.set_size_inches(14, 8)\n",
    "sns.heatmap(corr, annot=True, fmt=\".1f\", cmap=\"RdBu\", center=0, ax=ax)\n",
    "\n",
    "plt.show()#show heatmap of the dataset"
   ]
  },
  {
   "cell_type": "code",
   "execution_count": 12,
   "id": "0a9f5739-ce9a-440f-b0c0-ce16e690caa2",
   "metadata": {},
   "outputs": [],
   "source": [
    "from sklearn.linear_model import LinearRegression\n",
    "from sklearn.model_selection import train_test_split\n",
    "from sklearn.metrics import mean_squared_error, r2_score"
   ]
  },
  {
   "cell_type": "code",
   "execution_count": 13,
   "id": "2230184f-8914-4a2c-ad3f-3af0587ce463",
   "metadata": {},
   "outputs": [
    {
     "data": {
      "text/plain": [
       "787"
      ]
     },
     "execution_count": 13,
     "metadata": {},
     "output_type": "execute_result"
    }
   ],
   "source": [
    "redfin_df = pd.read_csv('cleaned_data3.csv')\n",
    "redfin_df = redfin_df.dropna(subset=['Company_Adj'])\n",
    "redfin_df = redfin_df.reset_index(drop=True)\n",
    "redfin_df\n",
    "redfin_df.shape[0]"
   ]
  },
  {
   "cell_type": "code",
   "execution_count": 14,
   "id": "7cf52d3a-74fb-4497-ad58-2a28d4305d34",
   "metadata": {},
   "outputs": [],
   "source": [
    "redfin_df = redfin_df.dropna(axis=1) #dropping columns that have NaN"
   ]
  },
  {
   "cell_type": "code",
   "execution_count": 15,
   "id": "d71936b6-e1e1-4b6a-b941-c06d98cdb356",
   "metadata": {},
   "outputs": [
    {
     "data": {
      "text/plain": [
       "786"
      ]
     },
     "execution_count": 15,
     "metadata": {},
     "output_type": "execute_result"
    }
   ],
   "source": [
    "values = [30]# remove the outlier\n",
    "redfin_df = redfin_df[redfin_df.Beds.isin(values) == False]\n",
    "redfin_df = redfin_df.reset_index(drop=True)\n",
    "redfin_df\n",
    "redfin_df.shape[0]"
   ]
  },
  {
   "cell_type": "code",
   "execution_count": 16,
   "id": "1ced87b6-3202-4dcf-9895-78b024a63380",
   "metadata": {},
   "outputs": [],
   "source": [
    "#Creating the linear regression model\n",
    "predictors = ['Company_Adj', 'Beds', 'Bathrooms', 'Square_Feet','Year_Built','Lot_Size', \n",
    "              'Estimated_market_value','Estimated_Rental_Value','Estimated_Salesrange_min', 'Parking_Spaces',\n",
    "              'Walk_Score', 'Estimated_Salesrange_max']\n",
    "outcome = 'Selling_Price'\n",
    "\n",
    "# partition data\n",
    "X = pd.get_dummies(redfin_df[predictors], drop_first=True)\n",
    "y = redfin_df[outcome]\n",
    "X_train, X_test, y_train, y_test = train_test_split(X, y, test_size=0.2, random_state=42)\n",
    "\n",
    "from sklearn.preprocessing import StandardScaler\n",
    "\n",
    "scaler = StandardScaler()\n",
    "X_train_scaled = scaler.fit_transform(X_train)\n",
    "X_test_scaled = scaler.transform(X_test)\n",
    "\n",
    "linear_model = LinearRegression()\n",
    "linear_model.fit(X_train_scaled, y_train)\n",
    "y_pred = linear_model.predict(X_test_scaled)"
   ]
  },
  {
   "cell_type": "code",
   "execution_count": 17,
   "id": "e44118ae-9553-4e23-b048-ca3ed12ef7e0",
   "metadata": {},
   "outputs": [
    {
     "name": "stdout",
     "output_type": "stream",
     "text": [
      "\n",
      "Regression statistics\n",
      "\n",
      "                      Mean Error (ME) : -17784.6514\n",
      "       Root Mean Squared Error (RMSE) : 234249.5252\n",
      "            Mean Absolute Error (MAE) : 152556.4885\n",
      "          Mean Percentage Error (MPE) : -1.7623\n",
      "Mean Absolute Percentage Error (MAPE) : 8.2442\n"
     ]
    }
   ],
   "source": [
    "regressionSummary(y_test, y_pred)"
   ]
  },
  {
   "cell_type": "markdown",
   "id": "e3f132fd-b150-4e2d-b15f-65d7b074a682",
   "metadata": {},
   "source": [
    "### Gradient Boosting - XGBoost"
   ]
  },
  {
   "cell_type": "code",
   "execution_count": 18,
   "id": "529a1da4-b05a-4506-bb44-a8b44c8234d7",
   "metadata": {},
   "outputs": [],
   "source": [
    "import xgboost as xgb\n",
    "from xgboost import XGBRegressor\n",
    "from sklearn.model_selection import train_test_split\n",
    "from sklearn.metrics import mean_squared_error, r2_score"
   ]
  },
  {
   "cell_type": "code",
   "execution_count": 19,
   "id": "b636dfc9-7895-41de-bd03-bfd4386680b2",
   "metadata": {},
   "outputs": [
    {
     "data": {
      "text/plain": [
       "787"
      ]
     },
     "execution_count": 19,
     "metadata": {},
     "output_type": "execute_result"
    }
   ],
   "source": [
    "redfin_df = pd.read_csv('cleaned_data3.csv')\n",
    "redfin_df = redfin_df.dropna(subset=['Company_Adj'])\n",
    "redfin_df = redfin_df.reset_index(drop=True)\n",
    "redfin_df\n",
    "redfin_df.shape[0]"
   ]
  },
  {
   "cell_type": "code",
   "execution_count": 20,
   "id": "e129a62f-6ca6-4978-a7e4-de2f7cd47d78",
   "metadata": {},
   "outputs": [],
   "source": [
    "redfin_df = redfin_df.dropna(axis=1) #dropping columns that have NaN"
   ]
  },
  {
   "cell_type": "code",
   "execution_count": 21,
   "id": "06596197-d697-47e5-b480-88490c47d697",
   "metadata": {},
   "outputs": [
    {
     "data": {
      "text/plain": [
       "786"
      ]
     },
     "execution_count": 21,
     "metadata": {},
     "output_type": "execute_result"
    }
   ],
   "source": [
    "values = [30]# remove the outlier\n",
    "redfin_df = redfin_df[redfin_df.Beds.isin(values) == False]\n",
    "redfin_df = redfin_df.reset_index(drop=True)\n",
    "redfin_df\n",
    "redfin_df.shape[0]"
   ]
  },
  {
   "cell_type": "code",
   "execution_count": 22,
   "id": "da580c8b-7137-4057-9e70-557a67124db3",
   "metadata": {},
   "outputs": [],
   "source": [
    "#Creating the Gradient Boosting model\n",
    "from sklearn.preprocessing import StandardScaler\n",
    "predictors = ['Company_Adj', 'Beds', 'Bathrooms', 'Square_Feet','Year_Built','Lot_Size', \n",
    "              'Estimated_market_value','Estimated_Rental_Value','Estimated_Salesrange_min', 'Parking_Spaces',\n",
    "              'Walk_Score', 'Estimated_Salesrange_max']\n",
    "outcome = 'Selling_Price'\n",
    "\n",
    "# partition data\n",
    "X = pd.get_dummies(redfin_df[predictors], drop_first=True)\n",
    "y = redfin_df[outcome]\n",
    "X_train, X_test, y_train, y_test = train_test_split(X, y, test_size=0.2, random_state=42)\n",
    "\n",
    "scaler = StandardScaler()\n",
    "X_train_scaled = scaler.fit_transform(X_train)\n",
    "X_test_scaled = scaler.transform(X_test)\n",
    "\n",
    "\n",
    "model = XGBRegressor(n_estimators=100, learning_rate=0.1, max_depth=3, random_state=0)\n",
    "model.fit(X_train_scaled, y_train)\n",
    "y_pred = model.predict(X_test_scaled)"
   ]
  },
  {
   "cell_type": "code",
   "execution_count": 23,
   "id": "bce39e60-70b0-4dee-94c1-6b1216faf0ab",
   "metadata": {},
   "outputs": [
    {
     "name": "stdout",
     "output_type": "stream",
     "text": [
      "\n",
      "Regression statistics\n",
      "\n",
      "                      Mean Error (ME) : -7853.5004\n",
      "       Root Mean Squared Error (RMSE) : 194375.3299\n",
      "            Mean Absolute Error (MAE) : 139367.3556\n",
      "          Mean Percentage Error (MPE) : -1.4410\n",
      "Mean Absolute Percentage Error (MAPE) : 7.6572\n"
     ]
    }
   ],
   "source": [
    "regressionSummary(y_test, y_pred)"
   ]
  },
  {
   "cell_type": "markdown",
   "id": "3f570d50-a796-450b-ba1a-7705d935a539",
   "metadata": {},
   "source": [
    "## Random Forest"
   ]
  },
  {
   "cell_type": "code",
   "execution_count": 24,
   "id": "83ee6d74-dc6c-492c-a7e4-567479227362",
   "metadata": {},
   "outputs": [],
   "source": [
    "from sklearn.ensemble import RandomForestRegressor\n",
    "from sklearn.model_selection import train_test_split\n",
    "from sklearn.metrics import mean_squared_error, r2_score\n",
    "from sklearn.preprocessing import StandardScaler"
   ]
  },
  {
   "cell_type": "code",
   "execution_count": 25,
   "id": "20f9fc4c-80e9-4c16-b713-5a99f4e04c51",
   "metadata": {},
   "outputs": [
    {
     "data": {
      "text/plain": [
       "787"
      ]
     },
     "execution_count": 25,
     "metadata": {},
     "output_type": "execute_result"
    }
   ],
   "source": [
    "redfin_df = pd.read_csv('cleaned_data3.csv')\n",
    "redfin_df = redfin_df.dropna(subset=['Company_Adj'])\n",
    "redfin_df = redfin_df.reset_index(drop=True)\n",
    "redfin_df\n",
    "redfin_df.shape[0]"
   ]
  },
  {
   "cell_type": "code",
   "execution_count": 26,
   "id": "684762f3-99b6-40e3-a919-009d08a524bc",
   "metadata": {},
   "outputs": [],
   "source": [
    "redfin_df = redfin_df.dropna(axis=1) #dropping columns that have NaN"
   ]
  },
  {
   "cell_type": "code",
   "execution_count": 27,
   "id": "460a699e-dc2d-418f-8605-711ac0cc30d9",
   "metadata": {},
   "outputs": [
    {
     "data": {
      "text/plain": [
       "786"
      ]
     },
     "execution_count": 27,
     "metadata": {},
     "output_type": "execute_result"
    }
   ],
   "source": [
    "values = [30]# remove the outlier\n",
    "redfin_df = redfin_df[redfin_df.Beds.isin(values) == False]\n",
    "redfin_df = redfin_df.reset_index(drop=True)\n",
    "redfin_df\n",
    "redfin_df.shape[0]"
   ]
  },
  {
   "cell_type": "code",
   "execution_count": 28,
   "id": "8c71f3e7-a0c2-4390-827d-63ee8d5d2363",
   "metadata": {},
   "outputs": [],
   "source": [
    "#Creating the model\n",
    "predictors = ['Company_Adj', 'Beds', 'Bathrooms', 'Square_Feet','Year_Built','Lot_Size', \n",
    "              'Estimated_market_value','Estimated_Rental_Value','Estimated_Salesrange_min', 'Parking_Spaces',\n",
    "              'Walk_Score', 'Estimated_Salesrange_max']\n",
    "outcome = 'Selling_Price'\n",
    "\n",
    "# partition data\n",
    "X = pd.get_dummies(redfin_df[predictors], drop_first=True)\n",
    "y = redfin_df[outcome]\n",
    "X_train, X_test, y_train, y_test = train_test_split(X, y, test_size=0.2, random_state=42)\n",
    "\n",
    "scaler = StandardScaler()\n",
    "X_train_scaled = scaler.fit_transform(X_train)\n",
    "X_test_scaled = scaler.transform(X_test)\n",
    "\n",
    "\n",
    "model = RandomForestRegressor(n_estimators=100, random_state=0)\n",
    "model.fit(X_train_scaled, y_train)\n",
    "y_pred = model.predict(X_test_scaled)"
   ]
  },
  {
   "cell_type": "code",
   "execution_count": 29,
   "id": "8c233c18-56ba-4667-aa87-899813331cc3",
   "metadata": {},
   "outputs": [
    {
     "name": "stdout",
     "output_type": "stream",
     "text": [
      "\n",
      "Regression statistics\n",
      "\n",
      "                      Mean Error (ME) : -32238.9407\n",
      "       Root Mean Squared Error (RMSE) : 197636.0884\n",
      "            Mean Absolute Error (MAE) : 135891.1394\n",
      "          Mean Percentage Error (MPE) : -2.4072\n",
      "Mean Absolute Percentage Error (MAPE) : 7.5363\n"
     ]
    }
   ],
   "source": [
    "regressionSummary(y_test, y_pred)"
   ]
  },
  {
   "cell_type": "markdown",
   "id": "e5acbf5d-bddc-44a4-9345-5711d95f6491",
   "metadata": {},
   "source": [
    "## Lasso Regression"
   ]
  },
  {
   "cell_type": "code",
   "execution_count": 30,
   "id": "7b1710a4-548c-4c2f-b766-33f40281c869",
   "metadata": {},
   "outputs": [],
   "source": [
    "from sklearn.linear_model import Lasso\n",
    "from sklearn.model_selection import train_test_split\n",
    "from sklearn.metrics import mean_squared_error\n",
    "from sklearn.preprocessing import StandardScaler"
   ]
  },
  {
   "cell_type": "code",
   "execution_count": 31,
   "id": "b5f7534a-3a17-4782-987d-a6e84475b550",
   "metadata": {},
   "outputs": [
    {
     "data": {
      "text/plain": [
       "787"
      ]
     },
     "execution_count": 31,
     "metadata": {},
     "output_type": "execute_result"
    }
   ],
   "source": [
    "redfin_df = pd.read_csv('cleaned_data3.csv')\n",
    "redfin_df = redfin_df.dropna(subset=['Company_Adj'])\n",
    "redfin_df = redfin_df.reset_index(drop=True)\n",
    "redfin_df\n",
    "redfin_df.shape[0]"
   ]
  },
  {
   "cell_type": "code",
   "execution_count": 32,
   "id": "631bfdc0-416a-4892-be9e-637e287e2c49",
   "metadata": {},
   "outputs": [],
   "source": [
    "redfin_df = redfin_df.dropna(axis=1) #dropping columns that have NaN"
   ]
  },
  {
   "cell_type": "code",
   "execution_count": 33,
   "id": "e7701a3a-7339-45f3-bc40-188deede00be",
   "metadata": {},
   "outputs": [
    {
     "data": {
      "text/plain": [
       "786"
      ]
     },
     "execution_count": 33,
     "metadata": {},
     "output_type": "execute_result"
    }
   ],
   "source": [
    "values = [30]# remove the outlier\n",
    "redfin_df = redfin_df[redfin_df.Beds.isin(values) == False]\n",
    "redfin_df = redfin_df.reset_index(drop=True)\n",
    "redfin_df\n",
    "redfin_df.shape[0]"
   ]
  },
  {
   "cell_type": "code",
   "execution_count": 34,
   "id": "28eccec8-4b7c-4628-b679-7e32d1970dc3",
   "metadata": {},
   "outputs": [],
   "source": [
    "#Creating the model\n",
    "predictors = ['Company_Adj', 'Beds', 'Bathrooms', 'Square_Feet','Year_Built','Lot_Size', \n",
    "              'Estimated_market_value','Estimated_Rental_Value','Estimated_Salesrange_min', 'Parking_Spaces',\n",
    "              'Walk_Score', 'Estimated_Salesrange_max']\n",
    "outcome = 'Selling_Price'\n",
    "\n",
    "# partition data\n",
    "X = pd.get_dummies(redfin_df[predictors], drop_first=True)\n",
    "y = redfin_df[outcome]\n",
    "X_train, X_test, y_train, y_test = train_test_split(X, y, test_size=0.2, random_state=42)\n",
    "\n",
    "scaler = StandardScaler()\n",
    "X_train_scaled = scaler.fit_transform(X_train)\n",
    "X_test_scaled = scaler.transform(X_test)\n",
    "\n",
    "\n",
    "lasso_model = Lasso(alpha=0.05, max_iter=10000)\n",
    "lasso_model.fit(X_train_scaled, y_train)\n",
    "lasso_predictions = lasso_model.predict(X_test_scaled)"
   ]
  },
  {
   "cell_type": "code",
   "execution_count": 35,
   "id": "8a296af0-9513-4a93-b2d6-ab72e0735cf3",
   "metadata": {},
   "outputs": [
    {
     "name": "stdout",
     "output_type": "stream",
     "text": [
      "\n",
      "Regression statistics\n",
      "\n",
      "                      Mean Error (ME) : -17784.7230\n",
      "       Root Mean Squared Error (RMSE) : 234249.4664\n",
      "            Mean Absolute Error (MAE) : 152556.4234\n",
      "          Mean Percentage Error (MPE) : -1.7623\n",
      "Mean Absolute Percentage Error (MAPE) : 8.2441\n"
     ]
    }
   ],
   "source": [
    "regressionSummary(y_test, lasso_predictions)"
   ]
  },
  {
   "cell_type": "code",
   "execution_count": 36,
   "id": "06a3ae4a-ab43-40d8-87fd-94ba0f44fc1d",
   "metadata": {},
   "outputs": [
    {
     "data": {
      "text/plain": [
       "['Company_Adj',\n",
       " 'Beds',\n",
       " 'Bathrooms',\n",
       " 'Square_Feet',\n",
       " 'Year_Built',\n",
       " 'Lot_Size',\n",
       " 'Estimated_market_value',\n",
       " 'Estimated_Rental_Value',\n",
       " 'Estimated_Salesrange_min',\n",
       " 'Parking_Spaces',\n",
       " 'Walk_Score',\n",
       " 'Estimated_Salesrange_max']"
      ]
     },
     "execution_count": 36,
     "metadata": {},
     "output_type": "execute_result"
    }
   ],
   "source": [
    "selected_features = [feature for feature, coefficient in zip(predictors, lasso_model.coef_) if coefficient != 0]\n",
    "selected_features"
   ]
  },
  {
   "cell_type": "markdown",
   "id": "874c0e1e-5a9d-4a6a-a523-bdd633e69681",
   "metadata": {},
   "source": [
    "## Ridge Regression"
   ]
  },
  {
   "cell_type": "code",
   "execution_count": 37,
   "id": "558974a1-6c0b-480c-869d-39555ac6385d",
   "metadata": {},
   "outputs": [],
   "source": [
    "from sklearn.linear_model import Ridge\n",
    "from sklearn.model_selection import train_test_split\n",
    "from sklearn.metrics import mean_squared_error\n",
    "from sklearn.preprocessing import StandardScaler"
   ]
  },
  {
   "cell_type": "code",
   "execution_count": 38,
   "id": "47fc7e9b-1ee9-4fef-b9c3-978b6c57793b",
   "metadata": {},
   "outputs": [
    {
     "data": {
      "text/plain": [
       "787"
      ]
     },
     "execution_count": 38,
     "metadata": {},
     "output_type": "execute_result"
    }
   ],
   "source": [
    "redfin_df = pd.read_csv('cleaned_data3.csv')\n",
    "redfin_df = redfin_df.dropna(subset=['Company_Adj'])\n",
    "redfin_df = redfin_df.reset_index(drop=True)\n",
    "redfin_df\n",
    "redfin_df.shape[0]"
   ]
  },
  {
   "cell_type": "code",
   "execution_count": 39,
   "id": "f25463b4-6e8b-4b0e-b8a9-8b6f14bf3a24",
   "metadata": {},
   "outputs": [],
   "source": [
    "redfin_df = redfin_df.dropna(axis=1) #dropping columns that have NaN"
   ]
  },
  {
   "cell_type": "code",
   "execution_count": 40,
   "id": "aa5525c2-b853-44a2-9e06-d57d039a62d9",
   "metadata": {},
   "outputs": [
    {
     "data": {
      "text/plain": [
       "786"
      ]
     },
     "execution_count": 40,
     "metadata": {},
     "output_type": "execute_result"
    }
   ],
   "source": [
    "values = [30]# remove the outlier\n",
    "redfin_df = redfin_df[redfin_df.Beds.isin(values) == False]\n",
    "redfin_df = redfin_df.reset_index(drop=True)\n",
    "redfin_df\n",
    "redfin_df.shape[0]"
   ]
  },
  {
   "cell_type": "code",
   "execution_count": 41,
   "id": "6133b78f-eb30-42ca-87d1-3234b989fb13",
   "metadata": {},
   "outputs": [],
   "source": [
    "#Creating the model\n",
    "predictors = ['Company_Adj', 'Beds', 'Bathrooms', 'Square_Feet','Year_Built','Lot_Size', \n",
    "              'Estimated_market_value','Estimated_Rental_Value','Estimated_Salesrange_min', 'Parking_Spaces',\n",
    "              'Walk_Score', 'Estimated_Salesrange_max']\n",
    "outcome = 'Selling_Price'\n",
    "\n",
    "# partition data\n",
    "X = pd.get_dummies(redfin_df[predictors], drop_first=True)\n",
    "y = redfin_df[outcome]\n",
    "X_train, X_test, y_train, y_test = train_test_split(X, y, test_size=0.2, random_state=42)\n",
    "\n",
    "scaler = StandardScaler()\n",
    "X_train_scaled = scaler.fit_transform(X_train)\n",
    "X_test_scaled = scaler.transform(X_test)\n",
    "\n",
    "ridge_model = Ridge(alpha=10.0)  \n",
    "ridge_model.fit(X_train_scaled, y_train)\n",
    "ridge_predictions = ridge_model.predict(X_test_scaled)"
   ]
  },
  {
   "cell_type": "code",
   "execution_count": 42,
   "id": "43d63615-4cab-4674-a93b-cffb6655138b",
   "metadata": {},
   "outputs": [
    {
     "name": "stdout",
     "output_type": "stream",
     "text": [
      "\n",
      "Regression statistics\n",
      "\n",
      "                      Mean Error (ME) : -18447.9923\n",
      "       Root Mean Squared Error (RMSE) : 231140.2980\n",
      "            Mean Absolute Error (MAE) : 153246.9471\n",
      "          Mean Percentage Error (MPE) : -1.9717\n",
      "Mean Absolute Percentage Error (MAPE) : 8.2916\n"
     ]
    }
   ],
   "source": [
    "regressionSummary(y_test, ridge_predictions)"
   ]
  },
  {
   "cell_type": "markdown",
   "id": "4c290d4b-fba1-4300-94ac-442886796026",
   "metadata": {},
   "source": [
    "## Cross Validation"
   ]
  },
  {
   "cell_type": "code",
   "execution_count": 43,
   "id": "3a6c4367-35d5-4c1e-98f9-1a8d561c29d3",
   "metadata": {},
   "outputs": [
    {
     "data": {
      "text/plain": [
       "787"
      ]
     },
     "execution_count": 43,
     "metadata": {},
     "output_type": "execute_result"
    }
   ],
   "source": [
    "redfin_df = pd.read_csv('cleaned_data3.csv')\n",
    "redfin_df = redfin_df.dropna(subset=['Company_Adj'])\n",
    "redfin_df = redfin_df.reset_index(drop=True)\n",
    "redfin_df\n",
    "redfin_df.shape[0]"
   ]
  },
  {
   "cell_type": "code",
   "execution_count": 44,
   "id": "3f293b61-2727-4528-930e-ef81e6580655",
   "metadata": {},
   "outputs": [],
   "source": [
    "redfin_df = redfin_df.dropna(axis=1) #dropping columns that have NaN"
   ]
  },
  {
   "cell_type": "code",
   "execution_count": 45,
   "id": "30bb3c20-9f5c-4813-a9d3-d776469bd85a",
   "metadata": {},
   "outputs": [
    {
     "data": {
      "text/plain": [
       "786"
      ]
     },
     "execution_count": 45,
     "metadata": {},
     "output_type": "execute_result"
    }
   ],
   "source": [
    "values = [30]# remove the outlier\n",
    "redfin_df = redfin_df[redfin_df.Beds.isin(values) == False]\n",
    "redfin_df = redfin_df.reset_index(drop=True)\n",
    "redfin_df\n",
    "redfin_df.shape[0]"
   ]
  },
  {
   "cell_type": "code",
   "execution_count": 46,
   "id": "d8cd4ce2-6de4-44e8-8669-39c43e768274",
   "metadata": {},
   "outputs": [],
   "source": [
    "predictors = ['Company_Adj', 'Beds', 'Bathrooms', 'Square_Feet','Year_Built','Lot_Size', \n",
    "              'Estimated_market_value','Estimated_Rental_Value','Estimated_Salesrange_min', 'Parking_Spaces',\n",
    "              'Walk_Score', 'Estimated_Salesrange_max']\n",
    "outcome = 'Selling_Price'\n",
    "\n",
    "X = pd.get_dummies(redfin_df[predictors], drop_first=True)\n",
    "y = redfin_df[outcome]"
   ]
  },
  {
   "cell_type": "code",
   "execution_count": 47,
   "id": "02395d9a-b307-4216-9328-be0011220ec9",
   "metadata": {},
   "outputs": [],
   "source": [
    "from sklearn.model_selection import cross_val_score, KFold\n",
    "from sklearn.linear_model import LinearRegression, Lasso, Ridge\n",
    "from sklearn.ensemble import RandomForestRegressor\n",
    "from xgboost import XGBRegressor\n",
    "import numpy as np\n",
    "import pandas as pd\n",
    "from sklearn.metrics import r2_score\n",
    "from sklearn.preprocessing import StandardScaler\n",
    "\n",
    "# Define your regression models\n",
    "models = [\n",
    "    LinearRegression(),\n",
    "    Lasso(alpha=1.0, max_iter=10000),\n",
    "    Ridge(alpha=10.0),\n",
    "    RandomForestRegressor(n_estimators=100, random_state=0),\n",
    "    XGBRegressor(n_estimators=100, objective='reg:squarederror')\n",
    "]"
   ]
  },
  {
   "cell_type": "code",
   "execution_count": 48,
   "id": "9ed085b9-3d1c-4b1b-9b7a-8eeadc696a87",
   "metadata": {},
   "outputs": [
    {
     "name": "stdout",
     "output_type": "stream",
     "text": [
      "                   Model Mean R-squared (%)\n",
      "0       LinearRegression              90.53\n",
      "1                  Lasso              90.53\n",
      "2                  Ridge              90.53\n",
      "3  RandomForestRegressor              90.97\n",
      "4           XGBRegressor              89.96\n"
     ]
    }
   ],
   "source": [
    "\n",
    "# Initialize lists to store model names and cross-validation percentage R-squared scores\n",
    "model_names = []\n",
    "mean_r2_scores = []\n",
    "\n",
    "# Create a StandardScaler object\n",
    "scaler = StandardScaler()\n",
    "\n",
    "# Scale the feature data\n",
    "X_scaled = scaler.fit_transform(X)\n",
    "\n",
    "# Calculate the baseline R-squared (e.g., mean of the target variable)\n",
    "baseline_r2 = r2_score(y, np.full_like(y, y.mean()))\n",
    "\n",
    "# Define the number of folds for cross-validation\n",
    "kfold = KFold(n_splits=5, shuffle=True, random_state=42)\n",
    "\n",
    "# Perform cross-validation for each regression model\n",
    "for model in models:\n",
    "    # Calculate R-squared scores for the model using cross-validation\n",
    "    scores = cross_val_score(model, X_scaled, y, cv=kfold, scoring='r2')\n",
    "    \n",
    "    # Calculate the mean R-squared score\n",
    "    mean_r2 = scores.mean()\n",
    "    \n",
    "    # Get the model name\n",
    "    model_name = model.__class__.__name__\n",
    "    model_names.append(model_name)\n",
    "    \n",
    "    # Store the mean R-squared score\n",
    "    mean_r2_scores.append(mean_r2)\n",
    "\n",
    "# Create a DataFrame\n",
    "data = {\n",
    "    'Model': model_names,\n",
    "    'Mean R-squared (%)': [f'{r2 * 100:.2f}' for r2 in mean_r2_scores],\n",
    "}\n",
    "\n",
    "df = pd.DataFrame(data)\n",
    "\n",
    "# Print the DataFrame\n",
    "print(df)"
   ]
  },
  {
   "cell_type": "code",
   "execution_count": null,
   "id": "7417a95b-1eb2-48f2-8299-4ccf89c8f016",
   "metadata": {},
   "outputs": [],
   "source": []
  }
 ],
 "metadata": {
  "kernelspec": {
   "display_name": "Python 3 (ipykernel)",
   "language": "python",
   "name": "python3"
  },
  "language_info": {
   "codemirror_mode": {
    "name": "ipython",
    "version": 3
   },
   "file_extension": ".py",
   "mimetype": "text/x-python",
   "name": "python",
   "nbconvert_exporter": "python",
   "pygments_lexer": "ipython3",
   "version": "3.9.16"
  }
 },
 "nbformat": 4,
 "nbformat_minor": 5
}
